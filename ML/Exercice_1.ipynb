{
 "cells": [
  {
   "cell_type": "markdown",
   "id": "f9dc0589",
   "metadata": {},
   "source": [
    "# Introduction to Machine Learning – Titanic Dataset\n",
    "\n",
    "This notebook introduces basic supervised learning with:\n",
    "- Preprocessing (missing values, encoding)\n",
    "- Feature scaling\n",
    "- Pipeline creation with Scikit-learn\n",
    "- Model training & evaluation\n",
    "- Model saving and serving with FastAPI"
   ]
  },
  {
   "cell_type": "code",
   "execution_count": 26,
   "id": "bddb9988",
   "metadata": {},
   "outputs": [],
   "source": [
    "# 📦 Imports\n",
    "import pandas as pd\n",
    "import numpy as np\n",
    "from sklearn.model_selection import train_test_split\n",
    "from sklearn.preprocessing import StandardScaler, OneHotEncoder\n",
    "from sklearn.compose import ColumnTransformer\n",
    "from sklearn.pipeline import Pipeline\n",
    "from sklearn.impute import SimpleImputer\n",
    "from sklearn.linear_model import LogisticRegression\n",
    "from sklearn.metrics import classification_report\n",
    "import joblib"
   ]
  },
  {
   "cell_type": "code",
   "execution_count": 27,
   "id": "628c2bcf",
   "metadata": {},
   "outputs": [
    {
     "data": {
      "text/html": [
       "<div>\n",
       "<style scoped>\n",
       "    .dataframe tbody tr th:only-of-type {\n",
       "        vertical-align: middle;\n",
       "    }\n",
       "\n",
       "    .dataframe tbody tr th {\n",
       "        vertical-align: top;\n",
       "    }\n",
       "\n",
       "    .dataframe thead th {\n",
       "        text-align: right;\n",
       "    }\n",
       "</style>\n",
       "<table border=\"1\" class=\"dataframe\">\n",
       "  <thead>\n",
       "    <tr style=\"text-align: right;\">\n",
       "      <th></th>\n",
       "      <th>PassengerId</th>\n",
       "      <th>Survived</th>\n",
       "      <th>Pclass</th>\n",
       "      <th>Name</th>\n",
       "      <th>Sex</th>\n",
       "      <th>Age</th>\n",
       "      <th>SibSp</th>\n",
       "      <th>Parch</th>\n",
       "      <th>Ticket</th>\n",
       "      <th>Fare</th>\n",
       "      <th>Cabin</th>\n",
       "      <th>Embarked</th>\n",
       "    </tr>\n",
       "  </thead>\n",
       "  <tbody>\n",
       "    <tr>\n",
       "      <th>0</th>\n",
       "      <td>1</td>\n",
       "      <td>0</td>\n",
       "      <td>3</td>\n",
       "      <td>Braund, Mr. Owen Harris</td>\n",
       "      <td>male</td>\n",
       "      <td>22.0</td>\n",
       "      <td>1</td>\n",
       "      <td>0</td>\n",
       "      <td>A/5 21171</td>\n",
       "      <td>7.2500</td>\n",
       "      <td>NaN</td>\n",
       "      <td>S</td>\n",
       "    </tr>\n",
       "    <tr>\n",
       "      <th>1</th>\n",
       "      <td>2</td>\n",
       "      <td>1</td>\n",
       "      <td>1</td>\n",
       "      <td>Cumings, Mrs. John Bradley (Florence Briggs Th...</td>\n",
       "      <td>female</td>\n",
       "      <td>38.0</td>\n",
       "      <td>1</td>\n",
       "      <td>0</td>\n",
       "      <td>PC 17599</td>\n",
       "      <td>71.2833</td>\n",
       "      <td>C85</td>\n",
       "      <td>C</td>\n",
       "    </tr>\n",
       "    <tr>\n",
       "      <th>2</th>\n",
       "      <td>3</td>\n",
       "      <td>1</td>\n",
       "      <td>3</td>\n",
       "      <td>Heikkinen, Miss. Laina</td>\n",
       "      <td>female</td>\n",
       "      <td>26.0</td>\n",
       "      <td>0</td>\n",
       "      <td>0</td>\n",
       "      <td>STON/O2. 3101282</td>\n",
       "      <td>7.9250</td>\n",
       "      <td>NaN</td>\n",
       "      <td>S</td>\n",
       "    </tr>\n",
       "    <tr>\n",
       "      <th>3</th>\n",
       "      <td>4</td>\n",
       "      <td>1</td>\n",
       "      <td>1</td>\n",
       "      <td>Futrelle, Mrs. Jacques Heath (Lily May Peel)</td>\n",
       "      <td>female</td>\n",
       "      <td>35.0</td>\n",
       "      <td>1</td>\n",
       "      <td>0</td>\n",
       "      <td>113803</td>\n",
       "      <td>53.1000</td>\n",
       "      <td>C123</td>\n",
       "      <td>S</td>\n",
       "    </tr>\n",
       "    <tr>\n",
       "      <th>4</th>\n",
       "      <td>5</td>\n",
       "      <td>0</td>\n",
       "      <td>3</td>\n",
       "      <td>Allen, Mr. William Henry</td>\n",
       "      <td>male</td>\n",
       "      <td>35.0</td>\n",
       "      <td>0</td>\n",
       "      <td>0</td>\n",
       "      <td>373450</td>\n",
       "      <td>8.0500</td>\n",
       "      <td>NaN</td>\n",
       "      <td>S</td>\n",
       "    </tr>\n",
       "  </tbody>\n",
       "</table>\n",
       "</div>"
      ],
      "text/plain": [
       "   PassengerId  Survived  Pclass  \\\n",
       "0            1         0       3   \n",
       "1            2         1       1   \n",
       "2            3         1       3   \n",
       "3            4         1       1   \n",
       "4            5         0       3   \n",
       "\n",
       "                                                Name     Sex   Age  SibSp  \\\n",
       "0                            Braund, Mr. Owen Harris    male  22.0      1   \n",
       "1  Cumings, Mrs. John Bradley (Florence Briggs Th...  female  38.0      1   \n",
       "2                             Heikkinen, Miss. Laina  female  26.0      0   \n",
       "3       Futrelle, Mrs. Jacques Heath (Lily May Peel)  female  35.0      1   \n",
       "4                           Allen, Mr. William Henry    male  35.0      0   \n",
       "\n",
       "   Parch            Ticket     Fare Cabin Embarked  \n",
       "0      0         A/5 21171   7.2500   NaN        S  \n",
       "1      0          PC 17599  71.2833   C85        C  \n",
       "2      0  STON/O2. 3101282   7.9250   NaN        S  \n",
       "3      0            113803  53.1000  C123        S  \n",
       "4      0            373450   8.0500   NaN        S  "
      ]
     },
     "execution_count": 27,
     "metadata": {},
     "output_type": "execute_result"
    }
   ],
   "source": [
    "# 📥 Load Titanic Dataset\n",
    "url = \"https://raw.githubusercontent.com/datasciencedojo/datasets/master/titanic.csv\"\n",
    "df = pd.read_csv(url)\n",
    "df.head()"
   ]
  },
  {
   "cell_type": "code",
   "execution_count": 28,
   "id": "467288a2",
   "metadata": {},
   "outputs": [],
   "source": [
    "# 🧹 Select Features and Target\n",
    "features = ['Pclass', 'Sex', 'Age', 'Fare', 'Embarked']\n",
    "target = 'Survived'\n",
    "\n",
    "X = df[features]\n",
    "y = df[target]"
   ]
  },
  {
   "cell_type": "code",
   "execution_count": 29,
   "id": "184e2f94",
   "metadata": {},
   "outputs": [],
   "source": [
    "# 🔧 Define Preprocessing Pipeline\n",
    "numeric_features = ['Age', 'Fare']\n",
    "numeric_transformer = Pipeline([\n",
    "    ('imputer', SimpleImputer(strategy='median')),\n",
    "    ('scaler', StandardScaler())\n",
    "])\n",
    "\n",
    "categorical_features = ['Pclass', 'Sex', 'Embarked']\n",
    "categorical_transformer = Pipeline([\n",
    "    ('imputer', SimpleImputer(strategy='most_frequent')),\n",
    "    ('encoder', OneHotEncoder(handle_unknown='ignore'))\n",
    "])\n",
    "\n",
    "preprocessor = ColumnTransformer([\n",
    "    ('num', numeric_transformer, numeric_features),\n",
    "    ('cat', categorical_transformer, categorical_features)\n",
    "])"
   ]
  },
  {
   "cell_type": "code",
   "execution_count": 30,
   "id": "7452379a",
   "metadata": {},
   "outputs": [
    {
     "name": "stdout",
     "output_type": "stream",
     "text": [
      "              precision    recall  f1-score   support\n",
      "\n",
      "           0       0.81      0.84      0.82       105\n",
      "           1       0.76      0.72      0.74        74\n",
      "\n",
      "    accuracy                           0.79       179\n",
      "   macro avg       0.78      0.78      0.78       179\n",
      "weighted avg       0.79      0.79      0.79       179\n",
      "\n"
     ]
    }
   ],
   "source": [
    "# 🔁 Full Pipeline with Model\n",
    "clf_pipeline = Pipeline([\n",
    "    ('preprocessing', preprocessor),\n",
    "    ('classifier', LogisticRegression(max_iter=1000))\n",
    "])\n",
    "\n",
    "# Split the data\n",
    "X_train, X_test, y_train, y_test = train_test_split(X, y, test_size=0.2, random_state=42)\n",
    "\n",
    "# Train the model\n",
    "clf_pipeline.fit(X_train, y_train)\n",
    "\n",
    "# Evaluate\n",
    "y_pred = clf_pipeline.predict(X_test)\n",
    "print(classification_report(y_test, y_pred))"
   ]
  },
  {
   "cell_type": "markdown",
   "id": "c13b6dd7",
   "metadata": {},
   "source": [
    "## Save the Trained Pipeline"
   ]
  },
  {
   "cell_type": "code",
   "execution_count": 31,
   "id": "d0fe50c6",
   "metadata": {},
   "outputs": [
    {
     "data": {
      "text/plain": [
       "['titanic_pipeline.pkl']"
      ]
     },
     "execution_count": 31,
     "metadata": {},
     "output_type": "execute_result"
    }
   ],
   "source": [
    "joblib.dump(clf_pipeline, \"titanic_pipeline.pkl\")"
   ]
  },
  {
   "cell_type": "markdown",
   "id": "6c0bc0e4",
   "metadata": {},
   "source": [
    "## Exercise 1: Try a Different Classifier\n",
    "Replace the logistic regression model in the pipeline with another classifier, such as `RandomForestClassifier`, and compare the results.\n",
    "\n",
    "```python\n",
    "from sklearn.ensemble import RandomForestClassifier\n",
    "# Replace the classifier in clf_pipeline\n",
    "```\n",
    "\n",
    "\n",
    "*What changes do you observe in precision and recall?*"
   ]
  },
  {
   "cell_type": "code",
   "execution_count": 32,
   "id": "8043d14f",
   "metadata": {},
   "outputs": [
    {
     "name": "stdout",
     "output_type": "stream",
     "text": [
      "=== Random Forest ===\n",
      "              precision    recall  f1-score   support\n",
      "\n",
      "           0       0.82      0.80      0.81       105\n",
      "           1       0.73      0.76      0.74        74\n",
      "\n",
      "    accuracy                           0.78       179\n",
      "   macro avg       0.78      0.78      0.78       179\n",
      "weighted avg       0.78      0.78      0.78       179\n",
      "\n"
     ]
    }
   ],
   "source": [
    "from sklearn.ensemble import RandomForestClassifier\n",
    "\n",
    "rf_pipeline = Pipeline([\n",
    "    ('preprocessing', preprocessor),\n",
    "    ('classifier', RandomForestClassifier(\n",
    "        n_estimators=300,\n",
    "        max_depth=None,\n",
    "        random_state=42,\n",
    "        class_weight='balanced',\n",
    "        n_jobs=-1\n",
    "    ))\n",
    "])\n",
    "\n",
    "rf_pipeline.fit(X_train, y_train)\n",
    "y_pred_rf = rf_pipeline.predict(X_test)\n",
    "\n",
    "print(\"=== Random Forest ===\")\n",
    "print(classification_report(y_test, y_pred_rf))\n"
   ]
  },
  {
   "cell_type": "code",
   "execution_count": 33,
   "id": "71641b7e",
   "metadata": {},
   "outputs": [
    {
     "name": "stdout",
     "output_type": "stream",
     "text": [
      "=== Régression Logistique ===\n",
      "              precision    recall  f1-score   support\n",
      "\n",
      "           0       0.81      0.84      0.82       105\n",
      "           1       0.76      0.72      0.74        74\n",
      "\n",
      "    accuracy                           0.79       179\n",
      "   macro avg       0.78      0.78      0.78       179\n",
      "weighted avg       0.79      0.79      0.79       179\n",
      "\n",
      "=== Random Forest ===\n",
      "              precision    recall  f1-score   support\n",
      "\n",
      "           0       0.82      0.80      0.81       105\n",
      "           1       0.73      0.76      0.74        74\n",
      "\n",
      "    accuracy                           0.78       179\n",
      "   macro avg       0.78      0.78      0.78       179\n",
      "weighted avg       0.78      0.78      0.78       179\n",
      "\n"
     ]
    }
   ],
   "source": [
    "from sklearn.metrics import classification_report\n",
    "\n",
    "# 1. Prédiction modèle logistique\n",
    "y_pred_logreg = clf_pipeline.predict(X_test)\n",
    "print(\"=== Régression Logistique ===\")\n",
    "print(classification_report(y_test, y_pred_logreg))\n",
    "\n",
    "# 2. Prédiction modèle Random Forest (déjà entraîné)\n",
    "y_pred_rf = rf_pipeline.predict(X_test)\n",
    "print(\"=== Random Forest ===\")\n",
    "print(classification_report(y_test, y_pred_rf))\n"
   ]
  },
  {
   "cell_type": "markdown",
   "id": "e482c4f2",
   "metadata": {},
   "source": [
    "## Exercise 2: Use Cross-Validation\n",
    "Apply cross-validation on the pipeline instead of a single train/test split.\n",
    "\n",
    "```python\n",
    "from sklearn.model_selection import cross_val_score\n",
    "```\n",
    "\n",
    "*Is the model stable across folds?*"
   ]
  },
  {
   "cell_type": "code",
   "execution_count": 34,
   "id": "63ab641b",
   "metadata": {},
   "outputs": [
    {
     "name": "stdout",
     "output_type": "stream",
     "text": [
      "Accuracy par fold : [0.782 0.803 0.787 0.77  0.815]\n",
      "Moyenne ± écart‑type : 0.7912560416797438 ± 0.01590068652119042\n"
     ]
    }
   ],
   "source": [
    "from sklearn.model_selection import cross_val_score, StratifiedKFold\n",
    "\n",
    "cv = StratifiedKFold(n_splits=5, shuffle=True, random_state=42)\n",
    "scores = cross_val_score(clf_pipeline, X, y, cv=cv, scoring='accuracy')\n",
    "\n",
    "print(\"Accuracy par fold :\", np.round(scores, 3))\n",
    "print(\"Moyenne ± écart‑type :\", scores.mean(), \"±\", scores.std())\n"
   ]
  },
  {
   "cell_type": "markdown",
   "id": "3e156e8c",
   "metadata": {},
   "source": [
    "## Exercise 3: Add Feature Engineering\n",
    "Add a new column to the Titanic data, such as `FamilySize = SibSp + Parch`, and evaluate if this feature improves the model.\n",
    "\n",
    "```python\n",
    "df['FamilySize'] = df['SibSp'] + df['Parch']\n",
    "# Then include it in the feature list and re-run the pipeline\n",
    "```\n",
    "\n",
    "*Does the new feature improve the prediction metrics?*"
   ]
  },
  {
   "cell_type": "code",
   "execution_count": 35,
   "id": "61dc97ff",
   "metadata": {},
   "outputs": [
    {
     "name": "stdout",
     "output_type": "stream",
     "text": [
      "              precision    recall  f1-score   support\n",
      "\n",
      "           0       0.81      0.88      0.84       110\n",
      "           1       0.78      0.67      0.72        69\n",
      "\n",
      "    accuracy                           0.80       179\n",
      "   macro avg       0.79      0.77      0.78       179\n",
      "weighted avg       0.80      0.80      0.80       179\n",
      "\n"
     ]
    }
   ],
   "source": [
    "df_fe = df.copy()\n",
    "df_fe['FamilySize'] = df_fe['SibSp'] + df_fe['Parch']\n",
    "\n",
    "features_fe = features + ['FamilySize']        # nouvelle liste\n",
    "X_fe = df_fe[features_fe]\n",
    "\n",
    "# même split pour comparer équitablement\n",
    "X_train_fe, X_test_fe, y_train_fe, y_test_fe = train_test_split(\n",
    "    X_fe, y, test_size=0.2, random_state=42, stratify=y\n",
    ")\n",
    "\n",
    "# maj du préprocesseur\n",
    "numeric_features_fe = ['Age', 'Fare', 'FamilySize']\n",
    "categorical_features_fe = ['Pclass', 'Sex', 'Embarked']\n",
    "\n",
    "preprocessor_fe = ColumnTransformer([\n",
    "    ('num', Pipeline([('imputer', SimpleImputer(strategy='median')),\n",
    "                      ('scaler', StandardScaler())]), numeric_features_fe),\n",
    "    ('cat', Pipeline([('imputer', SimpleImputer(strategy='most_frequent')),\n",
    "                      ('encoder', OneHotEncoder(handle_unknown='ignore'))]), categorical_features_fe)\n",
    "])\n",
    "\n",
    "clf_pipeline_fe = Pipeline([\n",
    "    ('preprocessing', preprocessor_fe),\n",
    "    ('classifier', LogisticRegression(max_iter=1000))\n",
    "])\n",
    "\n",
    "clf_pipeline_fe.fit(X_train_fe, y_train_fe)\n",
    "print(classification_report(y_test_fe, clf_pipeline_fe.predict(X_test_fe)))\n"
   ]
  },
  {
   "cell_type": "markdown",
   "id": "a0ecf45a",
   "metadata": {},
   "source": [
    "## Exercise 4 (Bonus): Create a Streamlit Interface\n",
    "Build a simple Streamlit UI to load the trained model and predict survival based on user input.\n",
    "\n",
    "```python\n",
    "# Example streamlit interface\n",
    "import streamlit as st\n",
    "import joblib\n",
    "import pandas as pd\n",
    "\n",
    "model = joblib.load(\"titanic_pipeline.pkl\")\n",
    "Pclass = st.selectbox(\"Pclass\", [1, 2, 3])\n",
    "Sex = st.selectbox(\"Sex\", [\"male\", \"female\"])\n",
    "Age = st.slider(\"Age\", 0, 100, 25)\n",
    "Fare = st.slider(\"Fare\", 0.0, 500.0, 32.0)\n",
    "Embarked = st.selectbox(\"Embarked\", [\"S\", \"C\", \"Q\"])\n",
    "\n",
    "if st.button(\"Predict\"):\n",
    "    X_new = pd.DataFrame([[Pclass, Sex, Age, Fare, Embarked]],\n",
    "                         columns=[\"Pclass\", \"Sex\", \"Age\", \"Fare\", \"Embarked\"])\n",
    "    pred = model.predict(X_new)\n",
    "    st.write(\"Prediction:\", \"Survived\" if pred[0] == 1 else \"Did not survive\")\n",
    "```\n",
    "\n",
    "👉 *Try running your Streamlit app locally.*"
   ]
  },
  {
   "cell_type": "markdown",
   "id": "ab42845d",
   "metadata": {},
   "source": []
  }
 ],
 "metadata": {
  "kernelspec": {
   "display_name": "Python 3",
   "language": "python",
   "name": "python3"
  },
  "language_info": {
   "codemirror_mode": {
    "name": "ipython",
    "version": 3
   },
   "file_extension": ".py",
   "mimetype": "text/x-python",
   "name": "python",
   "nbconvert_exporter": "python",
   "pygments_lexer": "ipython3",
   "version": "3.9.13"
  }
 },
 "nbformat": 4,
 "nbformat_minor": 5
}
